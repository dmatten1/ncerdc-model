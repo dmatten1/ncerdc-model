{
 "cells": [
  {
   "cell_type": "code",
   "execution_count": 1,
   "id": "eafa0c19",
   "metadata": {},
   "outputs": [],
   "source": [
    "import pandas as pd\n",
    "import numpy as np\n",
    "import os\n",
    "import re"
   ]
  },
  {
   "cell_type": "code",
   "execution_count": 3,
   "id": "5754cd81",
   "metadata": {},
   "outputs": [
    {
     "name": "stdout",
     "output_type": "stream",
     "text": [
      "{year} done\n",
      "{year} done\n",
      "{year} done\n",
      "{year} done\n",
      "{year} done\n",
      "lea\n",
      "schlcode\n",
      "age\n",
      "sex\n",
      "grade\n",
      "race\n",
      "islep\n",
      "disability\n",
      "setting\n",
      "plantype\n",
      "mastid\n"
     ]
    }
   ],
   "source": [
    "ecmatch = pd.DataFrame()\n",
    "filenames = [\n",
    "    \"/Users/adamcartwright/ncerdc/Student Data/Misc Student Data/ecmatch_apr18.sas7bdat\",\n",
    "    \"/Users/adamcartwright/ncerdc/Student Data/Misc Student Data/ecmatch_apr19v2.sas7bdat\",\n",
    "    \"/Users/adamcartwright/ncerdc/Student Data/Misc Student Data/ecmatch_apr20v2.sas7bdat\",\n",
    "    \"/Users/adamcartwright/ncerdc/Student Data/Misc Student Data/ecmatch_dec20v2_3.sas7bdat\",\n",
    "    \"/Users/adamcartwright/ncerdc/Student Data/Misc Student Data/ecmatch22_dec22.sas7bdat\",\n",
    "    ]\n",
    "for filename in filenames:\n",
    "    try:\n",
    "        # Read SAS file\n",
    "        df = pd.read_sas(filename)\n",
    "\n",
    "        # Keep only relevant columns\n",
    "        df.columns = df.columns.str.lower()\n",
    "\n",
    "        # Drop missing values\n",
    "\n",
    "        \n",
    "        # Append to the main DataFrame\n",
    "        ecmatch = pd.concat([ecmatch, df], ignore_index=True)\n",
    "        print(\"{year} done\")\n",
    "\n",
    "    except FileNotFoundError:\n",
    "        print(f\"File {filename} not found. Skipping.\")\n",
    "    except KeyError:\n",
    "        print(f\"Required columns not found in {filename}. Skipping.\")\n",
    "    \n",
    "def clean_bytes(val):\n",
    "    if isinstance(val, bytes):\n",
    "        return str(val)[2:-1]  # str(b'xyz') => \"b'xyz'\" → \"xyz\"\n",
    "    return val\n",
    "for col in ecmatch.columns:\n",
    "    ecmatch[col] = ecmatch[col].apply(clean_bytes)\n",
    "    print(col)\n",
    "    \n",
    "ecmatch.drop('race', axis=1, inplace=True)\n",
    "ecmatch.dropna(inplace=True)\n",
    "        \n",
    "ecmatch.to_csv(\"/Users/adamcartwright/NCERDC-MODEL/data/ec_master.csv\",index=False)"
   ]
  },
  {
   "cell_type": "code",
   "execution_count": 3,
   "id": "0e2e34ac",
   "metadata": {},
   "outputs": [],
   "source": [
    "ec = pd.read_csv(\"../data/ec_master.csv\")"
   ]
  },
  {
   "cell_type": "code",
   "execution_count": 6,
   "id": "18025e9e",
   "metadata": {},
   "outputs": [],
   "source": [
    "ec = ec[ec['plantype'] == 'IEP']\n",
    "ec = ec[['mastid', 'plantype']]\n"
   ]
  },
  {
   "cell_type": "code",
   "execution_count": 7,
   "id": "64ebaf6e",
   "metadata": {},
   "outputs": [],
   "source": [
    "ec = ec.drop_duplicates(subset='mastid', keep='first')\n"
   ]
  },
  {
   "cell_type": "code",
   "execution_count": 8,
   "id": "acf5a502",
   "metadata": {},
   "outputs": [],
   "source": [
    "ec.to_csv(\"../data/ec_unique.csv\",index=False)"
   ]
  }
 ],
 "metadata": {
  "kernelspec": {
   "display_name": "Python 3",
   "language": "python",
   "name": "python3"
  },
  "language_info": {
   "codemirror_mode": {
    "name": "ipython",
    "version": 3
   },
   "file_extension": ".py",
   "mimetype": "text/x-python",
   "name": "python",
   "nbconvert_exporter": "python",
   "pygments_lexer": "ipython3",
   "version": "3.13.3"
  }
 },
 "nbformat": 4,
 "nbformat_minor": 5
}
