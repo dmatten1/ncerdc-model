{
 "cells": [
  {
   "cell_type": "code",
   "execution_count": 2,
   "id": "48c8a56f",
   "metadata": {},
   "outputs": [],
   "source": [
    "import pandas as pd\n",
    "import numpy as np\n",
    "import os\n",
    "import re"
   ]
  },
  {
   "cell_type": "code",
   "execution_count": 8,
   "id": "55684c09",
   "metadata": {},
   "outputs": [
    {
     "name": "stdout",
     "output_type": "stream",
     "text": [
      "{year} done\n",
      "{year} done\n",
      "{year} done\n",
      "{year} done\n",
      "{year} done\n",
      "{year} done\n",
      "{year} done\n",
      "{year} done\n",
      "{year} done\n",
      "{year} done\n",
      "File /Users/danielmatten/Desktop/m/curtest_pub2020.sas7bdat not found. Skipping.\n",
      "{year} done\n",
      "{year} done\n",
      "year\n",
      "test_id\n",
      "exempt\n",
      "score\n",
      "cscore\n",
      "mastid\n",
      "pc\n"
     ]
    }
   ],
   "source": [
    "curtest = pd.DataFrame()\n",
    "for year in range(10, 23):  # range is exclusive at the end\n",
    "    filename = f\"/Users/danielmatten/Desktop/m/curtest_pub20{year}.sas7bdat\"\n",
    "    try:\n",
    "        # Read SAS file\n",
    "        df = pd.read_sas(filename)\n",
    "\n",
    "        # Keep only relevant columns\n",
    "        df.columns = df.columns.str.lower()\n",
    "\n",
    "        # Drop missing values\n",
    "\n",
    "        \n",
    "        # Append to the main DataFrame\n",
    "        curtest = pd.concat([curtest, df], ignore_index=True)\n",
    "        print(\"{year} done\")\n",
    "\n",
    "    except FileNotFoundError:\n",
    "        print(f\"File {filename} not found. Skipping.\")\n",
    "    except KeyError:\n",
    "        print(f\"Required columns not found in {filename}. Skipping.\")\n",
    "\n",
    "def clean_bytes(val):\n",
    "    if isinstance(val, bytes):\n",
    "        return str(val)[2:-1]  # str(b'xyz') => \"b'xyz'\" → \"xyz\"\n",
    "    return val\n",
    "\n",
    "curtest.drop(columns=['accomm_list', 'admindt','test_lea','test_schl','lea','schlcode','testdt','collection_code','exemption_code','ach_level','grade'], inplace=True) #really wonder if accomm_list is interesting\n",
    "\n",
    "for col in curtest.columns:\n",
    "    curtest[col] = curtest[col].apply(clean_bytes)\n",
    "    print(col)\n",
    "\n",
    "curtest.to_csv(\"../data/curtest_master.csv\",index=False)"
   ]
  },
  {
   "cell_type": "code",
   "execution_count": 4,
   "id": "de175f8b",
   "metadata": {},
   "outputs": [
    {
     "name": "stderr",
     "output_type": "stream",
     "text": [
      "/var/folders/dk/2mw0y5w91dggrsnrpxb04jv80000gn/T/ipykernel_43893/3725179964.py:1: DtypeWarning: Columns (12,13) have mixed types. Specify dtype option on import or set low_memory=False.\n",
      "  curtest = pd.read_csv(\"../data/curtest_master.csv\")\n"
     ]
    }
   ],
   "source": [
    "curtest = pd.read_csv(\"../data/curtest_master.csv\")\n",
    "exit_ids = pd.read_csv(\"../data/exit_list.csv\")"
   ]
  },
  {
   "cell_type": "code",
   "execution_count": 19,
   "id": "2ab0e6d5",
   "metadata": {},
   "outputs": [],
   "source": [
    "curtest_copy = curtest.copy()"
   ]
  },
  {
   "cell_type": "code",
   "execution_count": 21,
   "id": "0b0da426",
   "metadata": {},
   "outputs": [],
   "source": [
    "curtest_copy['score'] = pd.to_numeric(curtest_copy['score'], errors='coerce')\n",
    "\n",
    "curtest_copy.dropna(subset=['score'])\n",
    "# Rank scores within teach (test_id, year) group\n",
    "curtest_copy['pc'] = curtest_copy.groupby(['test_id', 'year'])['score'].rank(pct=True) * 100\n"
   ]
  },
  {
   "cell_type": "code",
   "execution_count": 22,
   "id": "433af208",
   "metadata": {},
   "outputs": [],
   "source": [
    "curtest_copy = curtest_copy[curtest_copy['mastid'].isin(exit_ids['mastid'])]"
   ]
  },
  {
   "cell_type": "code",
   "execution_count": 23,
   "id": "e9aac8e4",
   "metadata": {},
   "outputs": [],
   "source": [
    "curtest_copy.drop(columns=['year','score','cscore','exempt'],inplace=True)\n",
    "curtest_copy.dropna(inplace=True)"
   ]
  },
  {
   "cell_type": "code",
   "execution_count": 24,
   "id": "c5ad63f1",
   "metadata": {},
   "outputs": [],
   "source": [
    "# Step 1: Average pc for each mastid-test_id combo\n",
    "avg_pc = curtest_copy.groupby(['mastid', 'test_id'], as_index=False)['pc'].mean()\n",
    "\n",
    "# Step 2: Drop duplicates from the original\n",
    "curtest_copy = curtest_copy.drop_duplicates(subset=['mastid', 'test_id'])\n",
    "\n",
    "# Step 3: Update the pc column with the averaged values\n",
    "curtest_copy = curtest_copy.drop(columns='pc').merge(avg_pc, on=['mastid', 'test_id'], how='left')\n"
   ]
  },
  {
   "cell_type": "code",
   "execution_count": 29,
   "id": "5d4f52d8",
   "metadata": {},
   "outputs": [
    {
     "data": {
      "text/plain": [
       "array(['MA07', 'RD07', 'MA05', 'RD05', 'SC05', 'MA04', 'RD04', 'MA06',\n",
       "       'RD06', 'MA03', 'RD03', 'MA08', 'RD08', 'SC08', 'CECO', 'ENGL',\n",
       "       'BIOL', 'ENG2', 'ACCO', 'MTH1', 'MTH3'], dtype=object)"
      ]
     },
     "execution_count": 29,
     "metadata": {},
     "output_type": "execute_result"
    }
   ],
   "source": [
    "curtest_copy['test_id'].unique()"
   ]
  },
  {
   "cell_type": "code",
   "execution_count": 42,
   "id": "7299fdcb",
   "metadata": {},
   "outputs": [],
   "source": [
    "curtest_copy = curtest_copy[\n",
    "    ~((curtest_copy['test_id'].str.startswith(('X', 'A','RD3','C','E','MTH3','MA03','RD03'))) & (curtest_copy['test_id'] != 'ACCO'))\n",
    "]\n"
   ]
  },
  {
   "cell_type": "code",
   "execution_count": 43,
   "id": "076ec843",
   "metadata": {},
   "outputs": [],
   "source": [
    "pivot_df = curtest_copy.pivot(index='mastid', columns='test_id', values='pc')\n",
    "pivot_df.columns = [f'pc_{col}' for col in pivot_df.columns]\n",
    "pivot_df = pivot_df.reset_index()\n"
   ]
  },
  {
   "cell_type": "code",
   "execution_count": 44,
   "id": "feee6d09",
   "metadata": {},
   "outputs": [
    {
     "name": "stdout",
     "output_type": "stream",
     "text": [
      "Number of rows by count of missing values:\n",
      "0     232393\n",
      "1     127665\n",
      "2      50768\n",
      "3      15203\n",
      "4       7569\n",
      "5      12348\n",
      "6       8796\n",
      "7      11242\n",
      "8       7468\n",
      "9       9698\n",
      "10      6873\n",
      "11      2656\n",
      "12     10870\n",
      "13     15773\n",
      "14     16394\n",
      "Name: count, dtype: int64\n"
     ]
    }
   ],
   "source": [
    "# Count number of NaNs per row\n",
    "na_counts = pivot_df.isna().sum(axis=1)\n",
    "\n",
    "# Count how many rows have exactly X NaNs\n",
    "missing_summary = na_counts.value_counts().sort_index()\n",
    "\n",
    "print(\"Number of rows by count of missing values:\")\n",
    "print(missing_summary)\n"
   ]
  },
  {
   "cell_type": "code",
   "execution_count": 45,
   "id": "99451261",
   "metadata": {},
   "outputs": [],
   "source": [
    "pivot_df2 = pivot_df[pivot_df.isna().sum(axis=1) <= 2]\n"
   ]
  },
  {
   "cell_type": "code",
   "execution_count": 46,
   "id": "c341bbb6",
   "metadata": {},
   "outputs": [],
   "source": [
    "pivot_df2.to_csv(\"../data/curtest_mastid.csv\",index=False)"
   ]
  }
 ],
 "metadata": {
  "kernelspec": {
   "display_name": "Python 3",
   "language": "python",
   "name": "python3"
  },
  "language_info": {
   "codemirror_mode": {
    "name": "ipython",
    "version": 3
   },
   "file_extension": ".py",
   "mimetype": "text/x-python",
   "name": "python",
   "nbconvert_exporter": "python",
   "pygments_lexer": "ipython3",
   "version": "3.13.3"
  }
 },
 "nbformat": 4,
 "nbformat_minor": 5
}
