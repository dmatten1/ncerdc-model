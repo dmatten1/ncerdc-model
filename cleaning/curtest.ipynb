{
 "cells": [
  {
   "cell_type": "code",
   "execution_count": 1,
   "id": "48c8a56f",
   "metadata": {},
   "outputs": [],
   "source": [
    "import pandas as pd\n",
    "import numpy as np\n",
    "import os\n",
    "import re"
   ]
  },
  {
   "cell_type": "code",
   "execution_count": 2,
   "id": "55684c09",
   "metadata": {},
   "outputs": [
    {
     "name": "stdout",
     "output_type": "stream",
     "text": [
      "{year} done\n",
      "{year} done\n",
      "File /Users/danielmatten/Desktop/m/curtest_pub2020.sas7bdat not found. Skipping.\n",
      "{year} done\n",
      "{year} done\n",
      "test_lea\n",
      "test_schl\n",
      "mastid\n",
      "lea\n",
      "schlcode\n",
      "testdt\n",
      "pc\n",
      "year\n",
      "collection_code\n",
      "test_id\n",
      "exemption_code\n",
      "score\n",
      "ach_level\n",
      "grade\n",
      "accomm_list\n",
      "admindt\n"
     ]
    }
   ],
   "source": [
    "curtest = pd.DataFrame()\n",
    "for year in range(18, 23):  # range is exclusive at the end\n",
    "    filename = f\"/Users/danielmatten/Desktop/m/curtest_pub20{year}.sas7bdat\"\n",
    "    try:\n",
    "        # Read SAS file\n",
    "        df = pd.read_sas(filename)\n",
    "\n",
    "        # Keep only relevant columns\n",
    "        df.columns = df.columns.str.lower()\n",
    "\n",
    "        # Drop missing values\n",
    "\n",
    "        \n",
    "        # Append to the main DataFrame\n",
    "        curtest = pd.concat([curtest, df], ignore_index=True)\n",
    "        print(\"{year} done\")\n",
    "\n",
    "    except FileNotFoundError:\n",
    "        print(f\"File {filename} not found. Skipping.\")\n",
    "    except KeyError:\n",
    "        print(f\"Required columns not found in {filename}. Skipping.\")\n",
    "\n",
    "def clean_bytes(val):\n",
    "    if isinstance(val, bytes):\n",
    "        return str(val)[2:-1]  # str(b'xyz') => \"b'xyz'\" → \"xyz\"\n",
    "    return val\n",
    "for col in curtest.columns:\n",
    "    curtest[col] = curtest[col].apply(clean_bytes)\n",
    "    print(col)\n",
    "\n",
    "curtest.drop(columns=['accomm_list', 'admindt'], inplace=True) #really wonder if accomm_list is interesting\n",
    "curtest.dropna(inplace=True)\n",
    "curtest.to_csv(\"../data/curtest_master.csv\",index=False)"
   ]
  }
 ],
 "metadata": {
  "kernelspec": {
   "display_name": "Python 3",
   "language": "python",
   "name": "python3"
  },
  "language_info": {
   "codemirror_mode": {
    "name": "ipython",
    "version": 3
   },
   "file_extension": ".py",
   "mimetype": "text/x-python",
   "name": "python",
   "nbconvert_exporter": "python",
   "pygments_lexer": "ipython3",
   "version": "3.13.3"
  }
 },
 "nbformat": 4,
 "nbformat_minor": 5
}
