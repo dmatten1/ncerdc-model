{
 "cells": [
  {
   "cell_type": "code",
   "execution_count": 1,
   "id": "69f31afb",
   "metadata": {},
   "outputs": [],
   "source": [
    "import pandas as pd\n",
    "import numpy as np\n",
    "import os\n",
    "import re"
   ]
  },
  {
   "cell_type": "code",
   "execution_count": 12,
   "id": "09b5bed2",
   "metadata": {},
   "outputs": [
    {
     "name": "stdout",
     "output_type": "stream",
     "text": [
      "{year} done\n",
      "{year} done\n",
      "{year} done\n",
      "{year} done\n",
      "{year} done\n",
      "grade\n",
      "lea\n",
      "proflvl_rd\n",
      "proflvl_wr\n",
      "proflvl_ls\n",
      "proflvl_sp\n",
      "proflvl_cmp\n",
      "schlyear\n",
      "cluster\n",
      "scale_rd\n",
      "scale_wr\n",
      "scale_ls\n",
      "scale_sp\n",
      "scale_cmp\n",
      "mastid\n"
     ]
    }
   ],
   "source": [
    "\n",
    "access = pd.DataFrame()\n",
    "for year in range(18, 23):  # range is exclusive at the end\n",
    "    filename = f\"/Users/adamcartwright/ncerdc/Student Data/Misc Student Data/access_sc_pub20{year}.sas7bdat\"\n",
    "    try:\n",
    "        # Read SAS file\n",
    "        df = pd.read_sas(filename)\n",
    "\n",
    "        # Keep only relevant columns\n",
    "        df.columns = df.columns.str.lower()\n",
    "\n",
    "        # Drop missing values\n",
    "\n",
    "        \n",
    "        # Append to the main DataFrame\n",
    "        access = pd.concat([access, df], ignore_index=True)\n",
    "        print(\"{year} done\")\n",
    "\n",
    "    except FileNotFoundError:\n",
    "        print(f\"File {filename} not found. Skipping.\")\n",
    "    except KeyError:\n",
    "        print(f\"Required columns not found in {filename}. Skipping.\")\n",
    "    \n",
    "def clean_bytes(val):\n",
    "    if isinstance(val, bytes):\n",
    "        return str(val)[2:-1]  # str(b'xyz') => \"b'xyz'\" → \"xyz\"\n",
    "    return val\n",
    "for col in access.columns:\n",
    "    access[col] = access[col].apply(clean_bytes)\n",
    "    print(col)\n",
    "        \n",
    "access[['proflvl_cmp','mastid']] = (\n",
    "    access[['proflvl_cmp','mastid']]\n",
    "      .replace('NA', np.nan)\n",
    ")\n",
    "access = access.dropna(subset=['proflvl_cmp','mastid'])\n",
    "access['schlyear'] = access['schlyear'].str.split('-').str[1].astype(int)\n",
    "access.to_csv(\"/Users/adamcartwright/NCERDC-MODEL/data/access_master.csv\",index=False)"
   ]
  }
 ],
 "metadata": {
  "kernelspec": {
   "display_name": "Python 3",
   "language": "python",
   "name": "python3"
  },
  "language_info": {
   "codemirror_mode": {
    "name": "ipython",
    "version": 3
   },
   "file_extension": ".py",
   "mimetype": "text/x-python",
   "name": "python",
   "nbconvert_exporter": "python",
   "pygments_lexer": "ipython3",
   "version": "3.13.3"
  }
 },
 "nbformat": 4,
 "nbformat_minor": 5
}
