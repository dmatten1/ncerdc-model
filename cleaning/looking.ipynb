{
 "cells": [
  {
   "cell_type": "code",
   "execution_count": 1,
   "metadata": {},
   "outputs": [],
   "source": [
    "import pandas as pd"
   ]
  },
  {
   "cell_type": "code",
   "execution_count": 4,
   "metadata": {},
   "outputs": [
    {
     "name": "stderr",
     "output_type": "stream",
     "text": [
      "/var/folders/dk/2mw0y5w91dggrsnrpxb04jv80000gn/T/ipykernel_47997/3772076583.py:4: DtypeWarning: Columns (5,7) have mixed types. Specify dtype option on import or set low_memory=False.\n",
      "  masterbuild = pd.read_csv(\"../data/masterbuild_master.csv\")\n"
     ]
    }
   ],
   "source": [
    "attendance = pd.read_csv(\"../data/attendance_mastid.csv\")\n",
    "curtest = pd.read_csv(\"../data/curtest_mastid.csv\")\n",
    "ec = pd.read_csv(\"../data/ec_unique.csv\")\n",
    "masterbuild = pd.read_csv(\"../data/masterbuild_master.csv\")\n",
    "transcripts = pd.read_csv(\"../data/transcripts_mastid.csv\")\n",
    "exit = pd.read_csv(\"../exit_mastid.csv\")"
   ]
  }
 ],
 "metadata": {
  "kernelspec": {
   "display_name": "base",
   "language": "python",
   "name": "python3"
  },
  "language_info": {
   "codemirror_mode": {
    "name": "ipython",
    "version": 3
   },
   "file_extension": ".py",
   "mimetype": "text/x-python",
   "name": "python",
   "nbconvert_exporter": "python",
   "pygments_lexer": "ipython3",
   "version": "3.12.2"
  }
 },
 "nbformat": 4,
 "nbformat_minor": 2
}
