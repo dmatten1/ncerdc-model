{
 "cells": [
  {
   "cell_type": "code",
   "execution_count": 1,
   "metadata": {},
   "outputs": [
    {
     "name": "stdout",
     "output_type": "stream",
     "text": [
      "Registered base table from exit2.csv\n",
      "Registered t0 from access_master.csv\n",
      "Registered t1 from masterbuild_master.csv\n",
      "Registered t2 from collegeboard_master.csv\n",
      "Registered t3 from ec_master.csv\n",
      "Registered t4 from attendance_master.csv\n",
      "Registered t5 from curtest_master.csv\n",
      "Registered t6 from gpa_master.csv\n",
      "Registered t7 from grad_master.csv\n",
      "Performing left joins...\n",
      "✅ Done! Final joined dataset saved to: ../final_joined_students.csv\n"
     ]
    }
   ],
   "source": [
    "import duckdb\n",
    "import glob\n",
    "import os\n",
    "\n",
    "# Path to base CSV and data folder\n",
    "base_csv = '../exit2.csv'\n",
    "folder_path = '../data'\n",
    "\n",
    "# Start DuckDB session (persistent file)\n",
    "con = duckdb.connect('student_merge.duckdb')\n",
    "\n",
    "# Register base table\n",
    "con.execute(f\"\"\"\n",
    "    CREATE OR REPLACE TABLE base AS \n",
    "    SELECT * FROM read_csv_auto('{base_csv}', header=True, all_varchar=True)\n",
    "\"\"\")\n",
    "print(f\"Registered base table from {os.path.basename(base_csv)}\")\n",
    "\n",
    "# Get list of all CSVs in folder, excluding the base\n",
    "csv_files = [\n",
    "    f for f in glob.glob(os.path.join(folder_path, '*.csv'))\n",
    "    if not os.path.samefile(f, base_csv)\n",
    "]\n",
    "\n",
    "# Read and register remaining CSVs\n",
    "table_names = []\n",
    "for i, file in enumerate(csv_files):\n",
    "    table_name = f\"t{i}\"\n",
    "    table_names.append(table_name)\n",
    "\n",
    "    con.execute(f\"\"\"\n",
    "        CREATE OR REPLACE TABLE {table_name} AS \n",
    "        SELECT * FROM read_csv_auto('{file}', header=True, all_varchar=True)\n",
    "    \"\"\")\n",
    "    print(f\"Registered {table_name} from {os.path.basename(file)}\")\n",
    "\n",
    "# Build LEFT JOIN chain starting from base\n",
    "print(\"Performing left joins...\")\n",
    "\n",
    "join_sql = \"SELECT * FROM base\"\n",
    "for table in table_names:\n",
    "    join_sql = f\"SELECT * FROM ({join_sql}) LEFT JOIN {table} USING (mastid)\"\n",
    "\n",
    "# Export to CSV\n",
    "final_output_path = '../final_joined_students.csv'\n",
    "con.execute(f\"COPY ({join_sql}) TO '{final_output_path}' (HEADER, DELIMITER ',')\")\n",
    "print(f\"✅ Done! Final joined dataset saved to: {final_output_path}\")\n"
   ]
  },
  {
   "cell_type": "code",
   "execution_count": 2,
   "metadata": {},
   "outputs": [
    {
     "name": "stderr",
     "output_type": "stream",
     "text": [
      "/var/folders/dk/2mw0y5w91dggrsnrpxb04jv80000gn/T/ipykernel_35073/3591306695.py:3: DtypeWarning: Columns (0,12,17,19,22,27,31,40,46,47,48,49,50,51,53,59,61,62,63,64,65,66,67,68,70,71,72,73,74,75,78,79,109,125,143,162,164,169,172,173,174,175,176,177,184,186,188,191,192,193,195,196,197,205,207) have mixed types. Specify dtype option on import or set low_memory=False.\n",
      "  final = pd.read_csv(\"../final_joined_students.csv\")\n"
     ]
    },
    {
     "ename": "TypeError",
     "evalue": "'tuple' object is not callable",
     "output_type": "error",
     "traceback": [
      "\u001b[0;31m---------------------------------------------------------------------------\u001b[0m",
      "\u001b[0;31mTypeError\u001b[0m                                 Traceback (most recent call last)",
      "Cell \u001b[0;32mIn[2], line 4\u001b[0m\n\u001b[1;32m      1\u001b[0m \u001b[38;5;28;01mimport\u001b[39;00m \u001b[38;5;21;01mpandas\u001b[39;00m \u001b[38;5;28;01mas\u001b[39;00m \u001b[38;5;21;01mpd\u001b[39;00m\n\u001b[1;32m      3\u001b[0m final \u001b[38;5;241m=\u001b[39m pd\u001b[38;5;241m.\u001b[39mread_csv(\u001b[38;5;124m\"\u001b[39m\u001b[38;5;124m../final_joined_students.csv\u001b[39m\u001b[38;5;124m\"\u001b[39m)\n\u001b[0;32m----> 4\u001b[0m \u001b[43mfinal\u001b[49m\u001b[38;5;241;43m.\u001b[39;49m\u001b[43mshape\u001b[49m\u001b[43m(\u001b[49m\u001b[43m)\u001b[49m\n",
      "\u001b[0;31mTypeError\u001b[0m: 'tuple' object is not callable"
     ]
    }
   ],
   "source": [
    "import pandas as pd\n",
    "\n",
    "final = pd.read_csv(\"../final_joined_students.csv\")\n"
   ]
  },
  {
   "cell_type": "code",
   "execution_count": 3,
   "metadata": {},
   "outputs": [
    {
     "data": {
      "text/plain": [
       "(7408636, 216)"
      ]
     },
     "execution_count": 3,
     "metadata": {},
     "output_type": "execute_result"
    }
   ],
   "source": [
    "final.shape"
   ]
  },
  {
   "cell_type": "code",
   "execution_count": 1,
   "metadata": {},
   "outputs": [],
   "source": [
    "import dask.dataframe as dd\n",
    "\n",
    "df = dd.read_csv(\"../final_joined_students.csv\",dtype=str)\n",
    "\n",
    "\n"
   ]
  },
  {
   "cell_type": "code",
   "execution_count": 2,
   "metadata": {},
   "outputs": [
    {
     "name": "stdout",
     "output_type": "stream",
     "text": [
      "Approx shape: (42357249, 207)\n"
     ]
    }
   ],
   "source": [
    "\n",
    "\n",
    "# To get number of rows, compute it\n",
    "rows_in_first = len(df.partitions[0].compute())\n",
    "estimated_rows = rows_in_first * df.npartitions\n",
    "\n",
    "print(f\"Approx shape: ({estimated_rows}, {len(df.columns)})\")\n"
   ]
  },
  {
   "cell_type": "code",
   "execution_count": 3,
   "metadata": {},
   "outputs": [
    {
     "name": "stdout",
     "output_type": "stream",
     "text": [
      "grade                string[pyarrow]\n",
      "lea                  string[pyarrow]\n",
      "proflvl_rd           string[pyarrow]\n",
      "proflvl_wr           string[pyarrow]\n",
      "proflvl_ls           string[pyarrow]\n",
      "                          ...       \n",
      "diploma_type_code    string[pyarrow]\n",
      "reporting_year       string[pyarrow]\n",
      "collection_code_1    string[pyarrow]\n",
      "course_study         string[pyarrow]\n",
      "classification       string[pyarrow]\n",
      "Length: 207, dtype: object\n"
     ]
    }
   ],
   "source": [
    "print(df.dtypes)"
   ]
  },
  {
   "cell_type": "code",
   "execution_count": 4,
   "metadata": {},
   "outputs": [
    {
     "name": "stdout",
     "output_type": "stream",
     "text": [
      "['grade', 'lea', 'proflvl_rd', 'proflvl_wr', 'proflvl_ls', 'proflvl_sp', 'proflvl_cmp', 'schlyear', 'cluster', 'scale_rd', 'scale_wr', 'scale_ls', 'scale_sp', 'scale_cmp', 'mastid', 'eds', 'eds_code', 'els', 'ethnic', 'fcs', 'grade_1', 'hms', 'irm_prof', 'lea_1', 'mil', 'schlcode', 'sex', 'swd', 'swd_code', 'birthdt', 'sex_1', 'grad_date', 'ethnic_1', 'blang', 'instname', 'psat_8_9_test_dt', 'psat_8_9_total', 'psat_8_9_ebrw', 'psat_8_9_math', 'psat_8_9_tsr', 'psat_8_9_tsw', 'psat_8_9_tsm', 'psat_8_9_sub_evid', 'psat_8_9_sub_cont', 'psat_8_9_sub_expr', 'psat_8_9_sub_conv', 'psat_8_9_sub_alge', 'psat_8_9_sub_prob', 'psat_8_9_ctsh', 'psat_8_9_ctss', 'psat_nmsqt_total', 'psat_nmsqt_ebrw', 'psat_nmsqt_math', 'psat_nmsqt_tsr', 'psat_nmsqt_tsw', 'psat_nmsqt_tsm', 'psat_nmsqt_sub_evid', 'psat_nmsqt_sub_cont', 'psat_nmsqt_sub_expr', 'psat_nmsqt_sub_conv', 'psat_nmsqt_sub_alge', 'psat_nmsqt_sub_prob', 'psat_nmsqt_sub_advm', 'psat_nmsqt_ctsh', 'psat_nmsqt_ctss', 'psat_10_test_dt', 'psat_10_total', 'psat_10_ebrw', 'psat_10_math', 'psat_10_tsr', 'psat_10_tsw', 'psat_10_tsm', 'psat_10_sub_evid', 'psat_10_sub_cont', 'psat_10_sub_expr', 'psat_10_sub_conv', 'psat_10_sub_alge', 'psat_10_sub_prob', 'psat_10_sub_advm', 'psat_10_ctsh', 'psat_10_ctss', 'sat_asmt_dt_mr', 'sat_total_score_mr', 'sat_erw_score_mr', 'sat_math_score_mr', 'sat_er_mr', 'sat_ea_mr', 'sat_ew_mr', 'sat_tsr_mr', 'sat_tsw_mr', 'sat_tsm_mr', 'sat_sub_evid_mr', 'sat_sub_cont_mr', 'sat_sub_expr_mr', 'sat_sub_conv_mr', 'sat_sub_alge_mr', 'sat_sub_prob_mr', 'sat_sub_advm_mr', 'sat_ctss_mr', 'sat_asmt_dt_hc', 'sat_total_score_hc', 'sat_erw_score_hc', 'sat_math_score_hc', 'sat_er_hc', 'sat_ea_hc', 'sat_ew_hc', 'sat_tsr_hc', 'sat_tsw_hc', 'sat_tsm_hc', 'sat_sub_evid_hc', 'sat_sub_cont_hc', 'sat_sub_expr_hc', 'sat_sub_conv_hc', 'sat_sub_alge_hc', 'sat_sub_prob_hc', 'sat_sub_advm_hc', 'sat_ctsh_ss_hc', 'sat_ctss_hc', 'psat_nmsqt_test_dt', 'sat_ctsh_ss_mc', 'lea_2', 'schlcode_1', 'sat_ctsh_ss_mr', 'sat_ebrw_score_mr', 'sat_ebrw_score_hc', 'lea_3', 'schlcode_2', 'age', 'sex_2', 'grade_2', 'islep', 'disability', 'setting', 'plantype', 'aig', 'count_row_pre', 'count_row_state', 'den', 'eds_1', 'effective_g9year', 'els_1', 'en_g9school', 'en_g9year', 'ethnic_2', 'exit_exempt', 'fcs_1', 'gdvr', 'gdvr_document_type', 'gdvr_school', 'gdvr_year', 'hms_1', 'in_cohort', 'init_collection', 'init_grade', 'init_year', 'last_collection', 'last_year', 'lea_4', 'mig', 'num', 'ps_g9year', 'schlcode_3', 'sex_3', 'swd_1', 'swd_latest_school', 'swd_latest_year', 'year', 'final_exit_code', 'exit_code_desc', 'schl_yr', 'dayp', 'daya', 'daye', 'lea_5', 'schlcode_4', 'test_lea', 'test_schl', 'lea_6', 'schlcode_5', 'testdt', 'pc', 'year_1', 'collection_code', 'test_id', 'exemption_code', 'score', 'ach_level', 'grade_3', 'lea_7', 'schlcode_6', 'gpa_unweighted', 'gpa_weighted', 'rank_unweighted', 'rank_weighted', 'rank_number_unweight', 'rank_number_weighted', 'school', 'bound_for', 'lea_8', 'schlcode_7', 'dc', 'bound_for_code', 'diploma_type_code', 'reporting_year', 'collection_code_1', 'course_study', 'classification']\n"
     ]
    }
   ],
   "source": [
    "print(df.columns.tolist())\n"
   ]
  }
 ],
 "metadata": {
  "kernelspec": {
   "display_name": "Python 3",
   "language": "python",
   "name": "python3"
  },
  "language_info": {
   "codemirror_mode": {
    "name": "ipython",
    "version": 3
   },
   "file_extension": ".py",
   "mimetype": "text/x-python",
   "name": "python",
   "nbconvert_exporter": "python",
   "pygments_lexer": "ipython3",
   "version": "3.12.2"
  }
 },
 "nbformat": 4,
 "nbformat_minor": 2
}
