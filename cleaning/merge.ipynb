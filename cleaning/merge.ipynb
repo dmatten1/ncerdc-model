{
 "cells": [
  {
   "cell_type": "code",
   "execution_count": 31,
   "metadata": {},
   "outputs": [
    {
     "name": "stdout",
     "output_type": "stream",
     "text": [
      "Loaded base table from exit_mastid.csv with shape (549768, 13)\n",
      "Merging transcripts_mastid.csv with shape (183056, 9)\n"
     ]
    },
    {
     "name": "stderr",
     "output_type": "stream",
     "text": [
      "/var/folders/dk/2mw0y5w91dggrsnrpxb04jv80000gn/T/ipykernel_47728/579211315.py:24: DtypeWarning: Columns (5,7) have mixed types. Specify dtype option on import or set low_memory=False.\n",
      "  df = pd.read_csv(file)\n"
     ]
    },
    {
     "name": "stdout",
     "output_type": "stream",
     "text": [
      "Merging masterbuild_master.csv with shape (1972904, 15)\n",
      "Merging attendance_mastid.csv with shape (214929, 10)\n",
      "Merging curtest_mastid.csv with shape (410826, 16)\n",
      "Merging ec_unique.csv with shape (325992, 2)\n",
      "✅ Done! Final joined dataset saved to: ../final_joined_students.csv\n"
     ]
    }
   ],
   "source": [
    "import pandas as pd\n",
    "import glob\n",
    "import os\n",
    "\n",
    "# Path to base file and folder of other CSVs\n",
    "base_csv = '../exit_mastid.csv'\n",
    "folder_path = '../data'\n",
    "\n",
    "# Load and convert mastid to float in base\n",
    "base = pd.read_csv(base_csv)\n",
    "base['mastid'] = pd.to_numeric(base['mastid'], errors='coerce')  # or .astype(float)\n",
    "print(f\"Loaded base table from {os.path.basename(base_csv)} with shape {base.shape}\")\n",
    "\n",
    "# Get list of other CSV files in the folder (excluding the base)\n",
    "csv_files = [\n",
    "    f for f in glob.glob(os.path.join(folder_path, '*.csv'))\n",
    "    if not os.path.samefile(f, base_csv)\n",
    "]\n",
    "\n",
    "# Iteratively merge all other CSVs on mastid\n",
    "merged = base.copy()\n",
    "for file in csv_files:\n",
    "    try:\n",
    "        df = pd.read_csv(file)\n",
    "        \n",
    "        # Convert mastid to float to match base\n",
    "        df['mastid'] = pd.to_numeric(df['mastid'], errors='coerce')\n",
    "\n",
    "        print(f\"Merging {os.path.basename(file)} with shape {df.shape}\")\n",
    "\n",
    "        # Drop duplicate mastids if needed\n",
    "        df = df.drop_duplicates(subset='mastid')\n",
    "\n",
    "        # Perform left join\n",
    "        merged = merged.merge(df, on='mastid', how='left')\n",
    "    except Exception as e:\n",
    "        print(f\"❌ Failed on {file}: {e}\")\n",
    "\n",
    "# Save final result\n",
    "final_output_path = '../final_joined_students.csv'\n",
    "merged.to_csv(final_output_path, index=False)\n",
    "print(f\"✅ Done! Final joined dataset saved to: {final_output_path}\")\n"
   ]
  },
  {
   "cell_type": "code",
   "execution_count": 32,
   "metadata": {},
   "outputs": [
    {
     "name": "stderr",
     "output_type": "stream",
     "text": [
      "/var/folders/dk/2mw0y5w91dggrsnrpxb04jv80000gn/T/ipykernel_47728/2024848518.py:3: DtypeWarning: Columns (26,28) have mixed types. Specify dtype option on import or set low_memory=False.\n",
      "  final = pd.read_csv(\"../final_joined_students.csv\")\n"
     ]
    }
   ],
   "source": [
    "import pandas as pd\n",
    "import numpy as np\n",
    "final = pd.read_csv(\"../final_joined_students.csv\")\n"
   ]
  },
  {
   "cell_type": "code",
   "execution_count": 33,
   "metadata": {},
   "outputs": [],
   "source": [
    "final['iep'] = final['plantype'].apply(lambda x: 1 if x == 'IEP' else 0)\n",
    "final = final.drop(columns='plantype')\n",
    "\n",
    "final.drop(columns='irm_prof',inplace=True)\n",
    "final['act'] = np.where(final['pc_ACCO'].isna(), 0, 1)\n",
    "final.drop(columns='swd_code',inplace=True)\n",
    "final = final[[col for col in final.columns if not col.endswith('y')]]\n",
    "final.columns = [col[:-2] if col.endswith('_x') else col for col in final.columns]\n",
    "\n",
    "\n",
    "final = final[[col for col in final.columns if 'unweighted' not in col.lower()]]\n",
    "final = final.drop(columns='eds_code')\n",
    "final = final.drop(columns='grade')"
   ]
  },
  {
   "cell_type": "code",
   "execution_count": 34,
   "metadata": {},
   "outputs": [
    {
     "data": {
      "text/plain": [
       "Index(['aig', 'eds', 'els', 'ethnic', 'fcs', 'hms', 'lea', 'mastid', 'mig',\n",
       "       'schlcode', 'sex', 'swd', 'exit_code_desc', 'gpa_weighted_cum_grade_9',\n",
       "       'gpa_weighted_cum_grade_10', 'gpa_weighted_cum_grade_11',\n",
       "       'gpa_weighted_cum_grade_12', 'mil', 'absent_pc_grade_3',\n",
       "       'absent_pc_grade_4', 'absent_pc_grade_5', 'absent_pc_grade_6',\n",
       "       'absent_pc_grade_7', 'absent_pc_grade_8', 'absent_pc_grade_9',\n",
       "       'absent_pc_grade_10', 'absent_pc_grade_11', 'pc_ACCO', 'pc_BIOL',\n",
       "       'pc_MA04', 'pc_MA05', 'pc_MA06', 'pc_MA07', 'pc_MA08', 'pc_MTH1',\n",
       "       'pc_RD04', 'pc_RD05', 'pc_RD06', 'pc_RD07', 'pc_RD08', 'pc_SC05',\n",
       "       'pc_SC08', 'iep', 'act'],\n",
       "      dtype='object')"
      ]
     },
     "execution_count": 34,
     "metadata": {},
     "output_type": "execute_result"
    }
   ],
   "source": [
    "final.columns"
   ]
  },
  {
   "cell_type": "code",
   "execution_count": 35,
   "metadata": {},
   "outputs": [
    {
     "name": "stdout",
     "output_type": "stream",
     "text": [
      "Number of rows by count of missing values:\n",
      "0      11778\n",
      "1      86808\n",
      "2      24348\n",
      "4      71562\n",
      "5       6321\n",
      "6       3024\n",
      "7         34\n",
      "9       2976\n",
      "10     16261\n",
      "11      4906\n",
      "13    145788\n",
      "14     18119\n",
      "15     23780\n",
      "16       639\n",
      "19      5504\n",
      "20        32\n",
      "24     30461\n",
      "28     93808\n",
      "29      3619\n",
      "Name: count, dtype: int64\n"
     ]
    }
   ],
   "source": [
    "na_counts = final.isna().sum(axis=1)\n",
    "missing_summary = na_counts.value_counts().sort_index()\n",
    "\n",
    "print(\"Number of rows by count of missing values:\")\n",
    "print(missing_summary)\n"
   ]
  },
  {
   "cell_type": "code",
   "execution_count": 36,
   "metadata": {},
   "outputs": [],
   "source": [
    "final_attendance = final.dropna(subset=['absent_pc_grade_9'])"
   ]
  },
  {
   "cell_type": "code",
   "execution_count": 37,
   "metadata": {},
   "outputs": [
    {
     "name": "stdout",
     "output_type": "stream",
     "text": [
      "Number of rows by count of missing values:\n",
      "0     11778\n",
      "1     86808\n",
      "2     24348\n",
      "4     71562\n",
      "5      6321\n",
      "6      3024\n",
      "7        34\n",
      "15     5518\n",
      "19     5504\n",
      "20       32\n",
      "Name: count, dtype: int64\n"
     ]
    }
   ],
   "source": [
    "na_counts = final_attendance.isna().sum(axis=1)\n",
    "missing_summary = na_counts.value_counts().sort_index()\n",
    "\n",
    "print(\"Number of rows by count of missing values:\")\n",
    "print(missing_summary)"
   ]
  },
  {
   "cell_type": "code",
   "execution_count": 38,
   "metadata": {},
   "outputs": [],
   "source": [
    "final_attendance_4 = final_attendance[final_attendance.isna().sum(axis=1) <= 4]"
   ]
  },
  {
   "cell_type": "code",
   "execution_count": 39,
   "metadata": {},
   "outputs": [
    {
     "name": "stderr",
     "output_type": "stream",
     "text": [
      "/var/folders/dk/2mw0y5w91dggrsnrpxb04jv80000gn/T/ipykernel_47728/2064057361.py:1: SettingWithCopyWarning: \n",
      "A value is trying to be set on a copy of a slice from a DataFrame\n",
      "\n",
      "See the caveats in the documentation: https://pandas.pydata.org/pandas-docs/stable/user_guide/indexing.html#returning-a-view-versus-a-copy\n",
      "  final_attendance_4.drop(columns=['pc_ACCO','pc_BIOL'],inplace=True)\n",
      "/var/folders/dk/2mw0y5w91dggrsnrpxb04jv80000gn/T/ipykernel_47728/2064057361.py:2: SettingWithCopyWarning: \n",
      "A value is trying to be set on a copy of a slice from a DataFrame\n",
      "\n",
      "See the caveats in the documentation: https://pandas.pydata.org/pandas-docs/stable/user_guide/indexing.html#returning-a-view-versus-a-copy\n",
      "  final_attendance_4.dropna(inplace=True)\n"
     ]
    }
   ],
   "source": [
    "final_attendance_4.drop(columns=['pc_ACCO','pc_BIOL'],inplace=True)\n",
    "final_attendance_4.dropna(inplace=True)"
   ]
  },
  {
   "cell_type": "code",
   "execution_count": 40,
   "metadata": {},
   "outputs": [],
   "source": [
    "final_attendance_4.to_csv(final_output_path, index=False) #this is a pretty good one\n"
   ]
  }
 ],
 "metadata": {
  "kernelspec": {
   "display_name": "Python 3",
   "language": "python",
   "name": "python3"
  },
  "language_info": {
   "codemirror_mode": {
    "name": "ipython",
    "version": 3
   },
   "file_extension": ".py",
   "mimetype": "text/x-python",
   "name": "python",
   "nbconvert_exporter": "python",
   "pygments_lexer": "ipython3",
   "version": "3.12.2"
  }
 },
 "nbformat": 4,
 "nbformat_minor": 2
}
