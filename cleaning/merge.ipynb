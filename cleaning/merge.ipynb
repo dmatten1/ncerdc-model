{
 "cells": [
  {
   "cell_type": "code",
   "execution_count": 12,
   "metadata": {},
   "outputs": [
    {
     "name": "stdout",
     "output_type": "stream",
     "text": [
      "Loaded base table from exit_mastid.csv with shape (549768, 13)\n",
      "Merging transcripts_mastid.csv with shape (183056, 9)\n"
     ]
    },
    {
     "name": "stderr",
     "output_type": "stream",
     "text": [
      "/var/folders/dk/2mw0y5w91dggrsnrpxb04jv80000gn/T/ipykernel_47728/579211315.py:24: DtypeWarning: Columns (5,7) have mixed types. Specify dtype option on import or set low_memory=False.\n",
      "  df = pd.read_csv(file)\n"
     ]
    },
    {
     "name": "stdout",
     "output_type": "stream",
     "text": [
      "Merging masterbuild_master.csv with shape (1972904, 15)\n",
      "Merging attendance_mastid.csv with shape (188021, 5)\n",
      "Merging curtest_mastid.csv with shape (410826, 16)\n",
      "Merging ec_unique.csv with shape (325992, 2)\n",
      "✅ Done! Final joined dataset saved to: ../final_joined_students.csv\n"
     ]
    }
   ],
   "source": [
    "import pandas as pd\n",
    "import glob\n",
    "import os\n",
    "\n",
    "# Path to base file and folder of other CSVs\n",
    "base_csv = '../exit_mastid.csv'\n",
    "folder_path = '../data'\n",
    "\n",
    "# Load and convert mastid to float in base\n",
    "base = pd.read_csv(base_csv)\n",
    "base['mastid'] = pd.to_numeric(base['mastid'], errors='coerce')  # or .astype(float)\n",
    "print(f\"Loaded base table from {os.path.basename(base_csv)} with shape {base.shape}\")\n",
    "\n",
    "# Get list of other CSV files in the folder (excluding the base)\n",
    "csv_files = [\n",
    "    f for f in glob.glob(os.path.join(folder_path, '*.csv'))\n",
    "    if not os.path.samefile(f, base_csv)\n",
    "]\n",
    "\n",
    "# Iteratively merge all other CSVs on mastid\n",
    "merged = base.copy()\n",
    "for file in csv_files:\n",
    "    try:\n",
    "        df = pd.read_csv(file)\n",
    "        \n",
    "        # Convert mastid to float to match base\n",
    "        df['mastid'] = pd.to_numeric(df['mastid'], errors='coerce')\n",
    "\n",
    "        print(f\"Merging {os.path.basename(file)} with shape {df.shape}\")\n",
    "\n",
    "        # Drop duplicate mastids if needed\n",
    "        df = df.drop_duplicates(subset='mastid')\n",
    "\n",
    "        # Perform left join\n",
    "        merged = merged.merge(df, on='mastid', how='left')\n",
    "    except Exception as e:\n",
    "        print(f\"❌ Failed on {file}: {e}\")\n",
    "\n",
    "# Save final result\n",
    "final_output_path = '../final_joined_students.csv'\n",
    "merged.to_csv(final_output_path, index=False)\n",
    "print(f\"✅ Done! Final joined dataset saved to: {final_output_path}\")\n"
   ]
  },
  {
   "cell_type": "code",
   "execution_count": 14,
   "metadata": {},
   "outputs": [
    {
     "name": "stderr",
     "output_type": "stream",
     "text": [
      "/var/folders/dk/2mw0y5w91dggrsnrpxb04jv80000gn/T/ipykernel_47728/2024848518.py:3: DtypeWarning: Columns (26,28) have mixed types. Specify dtype option on import or set low_memory=False.\n",
      "  final = pd.read_csv(\"../final_joined_students.csv\")\n"
     ]
    }
   ],
   "source": [
    "import pandas as pd\n",
    "import numpy as np\n",
    "final = pd.read_csv(\"../final_joined_students.csv\")\n"
   ]
  },
  {
   "cell_type": "code",
   "execution_count": 15,
   "metadata": {},
   "outputs": [],
   "source": [
    "final['iep'] = final['plantype'].apply(lambda x: 1 if x == 'IEP' else 0)\n",
    "final = final.drop(columns='plantype')\n"
   ]
  },
  {
   "cell_type": "code",
   "execution_count": 16,
   "metadata": {},
   "outputs": [
    {
     "name": "stdout",
     "output_type": "stream",
     "text": [
      "Number of rows by count of missing values:\n",
      "1       1422\n",
      "2      18044\n",
      "3     100398\n",
      "4      25981\n",
      "5         16\n",
      "6       1073\n",
      "7         55\n",
      "8         88\n",
      "9         55\n",
      "10       658\n",
      "11      2784\n",
      "12       973\n",
      "13     10285\n",
      "14    210001\n",
      "15     21797\n",
      "16     21846\n",
      "17     29291\n",
      "20        48\n",
      "21       583\n",
      "23        17\n",
      "24       949\n",
      "25      1392\n",
      "26       289\n",
      "27       835\n",
      "28     19297\n",
      "29     77940\n",
      "41      3651\n",
      "Name: count, dtype: int64\n"
     ]
    }
   ],
   "source": [
    "na_counts = final.isna().sum(axis=1)\n",
    "missing_summary = na_counts.value_counts().sort_index()\n",
    "\n",
    "print(\"Number of rows by count of missing values:\")\n",
    "print(missing_summary)\n"
   ]
  }
 ],
 "metadata": {
  "kernelspec": {
   "display_name": "Python 3",
   "language": "python",
   "name": "python3"
  },
  "language_info": {
   "codemirror_mode": {
    "name": "ipython",
    "version": 3
   },
   "file_extension": ".py",
   "mimetype": "text/x-python",
   "name": "python",
   "nbconvert_exporter": "python",
   "pygments_lexer": "ipython3",
   "version": "3.12.2"
  }
 },
 "nbformat": 4,
 "nbformat_minor": 2
}
