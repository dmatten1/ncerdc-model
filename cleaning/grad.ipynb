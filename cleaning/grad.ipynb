{
 "cells": [
  {
   "cell_type": "code",
   "execution_count": 1,
   "id": "cc8f7e63",
   "metadata": {},
   "outputs": [],
   "source": [
    "import pandas as pd\n",
    "import numpy as np\n",
    "import os\n",
    "import re"
   ]
  },
  {
   "cell_type": "code",
   "execution_count": 3,
   "id": "5c165870",
   "metadata": {},
   "outputs": [
    {
     "name": "stdout",
     "output_type": "stream",
     "text": [
      "{year} done\n",
      "{year} done\n",
      "{year} done\n",
      "{year} done\n",
      "{year} done\n"
     ]
    }
   ],
   "source": [
    "grad = pd.DataFrame()\n",
    "for year in range(18, 23):  # range is exclusive at the end\n",
    "    filename = f\"/Users/adamcartwright/ncerdc/Student Data/Misc Student Data/gradpub{year}.sas7bdat\"\n",
    "    try:\n",
    "        # Read SAS file\n",
    "        df = pd.read_sas(filename)\n",
    "\n",
    "        # Keep only relevant columns\n",
    "        df.columns = df.columns.str.lower()\n",
    "\n",
    "        # Drop missing values\n",
    "\n",
    "        \n",
    "        # Append to the main DataFrame\n",
    "        grad = pd.concat([grad, df], ignore_index=True)\n",
    "        print(\"{year} done\")\n",
    "\n",
    "    except FileNotFoundError:\n",
    "        print(f\"File {filename} not found. Skipping.\")\n",
    "    except KeyError:\n",
    "        print(f\"Required columns not found in {filename}. Skipping.\")\n",
    "        \n",
    "\n",
    "def clean_bytes(val):\n",
    "    if isinstance(val, bytes):\n",
    "        return str(val)[2:-1]  # str(b'xyz') => \"b'xyz'\" → \"xyz\"\n",
    "    return val\n",
    "\n",
    "grad = grad.drop(columns=['leasch', 'lea_code','diploma_issued','diploma_issued_dt','ethnicity','sex'])\n",
    "\n",
    "grad = grad.drop(columns=['sex','ethnicity'])\n",
    "\n",
    "for col in grad.columns:\n",
    "    grad[col] = grad[col].apply(clean_bytes)\n",
    "    print(col)\n",
    "    \n",
    "\n",
    "grad.to_csv(\"../data/grad_master.csv\",index=False)"
   ]
  }
 ],
 "metadata": {
  "kernelspec": {
   "display_name": "Python 3",
   "language": "python",
   "name": "python3"
  },
  "language_info": {
   "codemirror_mode": {
    "name": "ipython",
    "version": 3
   },
   "file_extension": ".py",
   "mimetype": "text/x-python",
   "name": "python",
   "nbconvert_exporter": "python",
   "pygments_lexer": "ipython3",
   "version": "3.13.3"
  }
 },
 "nbformat": 4,
 "nbformat_minor": 5
}
