{
 "cells": [
  {
   "cell_type": "code",
   "execution_count": 2,
   "id": "24dfb77b",
   "metadata": {},
   "outputs": [],
   "source": [
    "import pandas as pd\n",
    "import numpy as np\n",
    "import os\n",
    "import re"
   ]
  },
  {
   "cell_type": "code",
   "execution_count": 5,
   "id": "4a39bfba",
   "metadata": {},
   "outputs": [
    {
     "name": "stdout",
     "output_type": "stream",
     "text": [
      "{year} done\n",
      "{year} done\n",
      "File /Users/adamcartwright/ncerdc/Student Data/Misc Student Data/attendance_pub2020.sas7bdat not found. Skipping.\n",
      "{year} done\n",
      "{year} done\n",
      "schl_yr\n",
      "dayp\n",
      "daya\n",
      "daye\n",
      "lea\n",
      "schlcode\n",
      "mastid\n"
     ]
    }
   ],
   "source": [
    "attendance = pd.DataFrame()\n",
    "for year in range(18, 23):  # range is exclusive at the end\n",
    "    filename = f\"/Users/adamcartwright/ncerdc/Student Data/Misc Student Data/attendance_pub20{year}.sas7bdat\"\n",
    "    try:\n",
    "        # Read SAS file\n",
    "        df = pd.read_sas(filename)\n",
    "\n",
    "        # Keep only relevant columns\n",
    "        df.columns = df.columns.str.lower()\n",
    "\n",
    "        # Drop missing values\n",
    "\n",
    "        \n",
    "        # Append to the main DataFrame\n",
    "        attendance = pd.concat([attendance, df], ignore_index=True)\n",
    "        print(\"{year} done\")\n",
    "\n",
    "    except FileNotFoundError:\n",
    "        print(f\"File {filename} not found. Skipping.\")\n",
    "    except KeyError:\n",
    "        print(f\"Required columns not found in {filename}. Skipping.\")\n",
    "def clean_bytes(val):\n",
    "    if isinstance(val, bytes):\n",
    "        return str(val)[2:-1]  # str(b'xyz') => \"b'xyz'\" → \"xyz\"\n",
    "    return val\n",
    "for col in attendance.columns:\n",
    "    attendance[col] = attendance[col].apply(clean_bytes)\n",
    "    print(col)\n",
    "    \n",
    "attendance['schl_yr'] = attendance['schl_yr'].str.split('-').str[1].astype(int)\n",
    "attendance.dropna(subset=['mastid'], inplace=True)\n",
    "attendance.to_csv(\"/Users/adamcartwright/NCERDC-MODEL/data/attendance_master.csv\",index=False)"
   ]
  }
 ],
 "metadata": {
  "kernelspec": {
   "display_name": "Python 3",
   "language": "python",
   "name": "python3"
  },
  "language_info": {
   "codemirror_mode": {
    "name": "ipython",
    "version": 3
   },
   "file_extension": ".py",
   "mimetype": "text/x-python",
   "name": "python",
   "nbconvert_exporter": "python",
   "pygments_lexer": "ipython3",
   "version": "3.11.4"
  }
 },
 "nbformat": 4,
 "nbformat_minor": 5
}
