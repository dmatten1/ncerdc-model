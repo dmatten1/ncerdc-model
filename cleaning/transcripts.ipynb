{
 "cells": [
  {
   "cell_type": "code",
   "execution_count": null,
   "metadata": {},
   "outputs": [],
   "source": [
    "import pandas as pd\n",
    "import numpy as np\n",
    "import os\n",
    "import re\n",
    "\n",
    "transcripts = pd.DataFrame()\n",
    "for year in range(18, 24):  # range is exclusive at the end\n",
    "    filename = f\"/Users/danielmatten/Desktop/m/transcripts20{year}.sas7bdat\"\n",
    "    try:\n",
    "        # Read SAS file\n",
    "        df = pd.read_sas(filename)\n",
    "\n",
    "        # Keep only relevant columns\n",
    "        df.columns = df.columns.str.lower()\n",
    "\n",
    "        # Drop missing values\n",
    "\n",
    "        \n",
    "        # Append to the main DataFrame\n",
    "        transcripts = pd.concat([transcripts, df], ignore_index=True)\n",
    "        print(f\"{year} done\")\n",
    "\n",
    "    except FileNotFoundError:\n",
    "        print(f\"File {filename} not found. Skipping.\")\n",
    "    except KeyError:\n",
    "        print(f\"Required columns not found in {filename}. Skipping.\")\n",
    "def clean_bytes(val):\n",
    "    if isinstance(val, bytes):\n",
    "        return str(val)[2:-1]  # str(b'xyz') => \"b'xyz'\" → \"xyz\"\n",
    "    return val\n",
    "# Drop unnecessary columns\n",
    "transcripts.drop(columns=['semester', 'how_taken_desc', 'course_length_desc','school','completed_date','course_code'], inplace=True)\n",
    "\n",
    "# Drop rows where 'mastid' is NaN\n",
    "#transcripts.dropna(subset=['mastid'], inplace=True)\n",
    "print(\"nas\")\n",
    "# Decode bytes to string in all columns (no slicing needed)\n",
    "for col in transcripts.columns:\n",
    "    transcripts[col] = transcripts[col].apply(clean_bytes)\n",
    "    print(col)\n",
    "\n",
    "transcripts.dropna(inplace=True) #this is pretty safe\n",
    "\n",
    "transcripts.to_csv(\"../data/transcripts_master.csv\",index=False)"
   ]
  },
  {
   "cell_type": "code",
   "execution_count": 10,
   "metadata": {},
   "outputs": [
    {
     "data": {
      "text/plain": [
       "array(['2', '5', '9', '7', '6', '8', '0', '1', '7 - Advanced Placement',\n",
       "       '2 - Standard Version', '5 - Honors/Advanced/Academically Gifted',\n",
       "       '9 - Non-Classroom Activity', '8 - International Baccalaureate',\n",
       "       '6 - Co-op Education', '0 - Modified Curriculum',\n",
       "       '1 - Abridged/Adapted (Remedial)'], dtype=object)"
      ]
     },
     "execution_count": 10,
     "metadata": {},
     "output_type": "execute_result"
    }
   ],
   "source": [
    "#Dont do any of this just holding onto for future\n",
    "\n",
    "# # Mapping based on the examples you gave\n",
    "# conversion_map = {\n",
    "#     '0': 'Modified Curriculum',\n",
    "#     '1': 'Abridged/Adapted (Remedial)',\n",
    "#     '2': 'Standard Version',\n",
    "#     '5': 'Honors/Advanced/Academically Gifted',\n",
    "#     '6': 'Co-op Education',\n",
    "#     '7': 'Advanced Placement',\n",
    "#     '8': 'International Baccalaureate',\n",
    "#     '9': 'Non-Classroom Activity'\n",
    "# }\n",
    "\n",
    "# def convert_to_description(val):\n",
    "#     val = str(val).strip()\n",
    "#     return conversion_map.get(val[0], val) if val else val\n",
    "\n",
    "# # Apply to your column (replace 'your_column' with the actual name)\n",
    "# transcripts['academic_level_desc'] = transcripts['academic_level_desc'].apply(convert_to_description)\n"
   ]
  }
 ],
 "metadata": {
  "kernelspec": {
   "display_name": "Python 3",
   "language": "python",
   "name": "python3"
  },
  "language_info": {
   "codemirror_mode": {
    "name": "ipython",
    "version": 3
   },
   "file_extension": ".py",
   "mimetype": "text/x-python",
   "name": "python",
   "nbconvert_exporter": "python",
   "pygments_lexer": "ipython3",
   "version": "3.13.3"
  }
 },
 "nbformat": 4,
 "nbformat_minor": 2
}
