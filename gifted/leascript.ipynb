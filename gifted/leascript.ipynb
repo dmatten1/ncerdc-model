{
 "cells": [
  {
   "cell_type": "code",
   "execution_count": 2,
   "metadata": {},
   "outputs": [
    {
     "name": "stdout",
     "output_type": "stream",
     "text": [
      "Saved LEA to district name mapping with 115 entries.\n"
     ]
    }
   ],
   "source": [
    "# Step-by-step to parse the LEA PDF text and extract public school districts\n",
    "\n",
    "from PyPDF2 import PdfReader\n",
    "import pandas as pd\n",
    "import re\n",
    "\n",
    "# 1. Load the PDF\n",
    "pdf_path = \"/Users/danielmatten/Desktop/leacharterlist22-23.pdf\"\n",
    "reader = PdfReader(pdf_path)\n",
    "pdf_text = \"\"\n",
    "for page in reader.pages:\n",
    "    pdf_text += page.extract_text() + \"\\n\"\n",
    "\n",
    "# 2. Extract lines with 3-digit LEA codes followed by district names\n",
    "lines = pdf_text.splitlines()\n",
    "public_school_entries = [\n",
    "    line.strip() for line in lines\n",
    "    if re.match(r'^\\d{3}\\s+[A-Za-z\\-\\'’().& ]+$', line.strip())\n",
    "]\n",
    "\n",
    "# 3. Parse into LEA and name\n",
    "lea_district = [\n",
    "    (int(line[:3]), line[4:].strip())\n",
    "    for line in public_school_entries\n",
    "]\n",
    "\n",
    "# 4. Create DataFrame and save\n",
    "lea_df = pd.DataFrame(lea_district, columns=['lea', 'district_name'])\n",
    "lea_df.to_csv(\"nc_lea_code_to_district_name.csv\", index=False)\n",
    "\n",
    "print(\"Saved LEA to district name mapping with\", len(lea_df), \"entries.\")"
   ]
  }
 ],
 "metadata": {
  "kernelspec": {
   "display_name": "Python 3",
   "language": "python",
   "name": "python3"
  },
  "language_info": {
   "codemirror_mode": {
    "name": "ipython",
    "version": 3
   },
   "file_extension": ".py",
   "mimetype": "text/x-python",
   "name": "python",
   "nbconvert_exporter": "python",
   "pygments_lexer": "ipython3",
   "version": "3.13.3"
  }
 },
 "nbformat": 4,
 "nbformat_minor": 2
}
