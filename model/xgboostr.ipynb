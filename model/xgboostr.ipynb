{
 "cells": [
  {
   "cell_type": "code",
   "execution_count": 1,
   "id": "2e86a1d9",
   "metadata": {},
   "outputs": [],
   "source": [
    "import pandas as pd\n",
    "import numpy as np\n",
    "import xgboost as xgb\n",
    "from sklearn.preprocessing import LabelEncoder\n",
    "from sklearn.metrics import (\n",
    "    classification_report,\n",
    "    roc_auc_score,\n",
    "    confusion_matrix,\n",
    "    roc_curve,\n",
    "    precision_recall_curve,\n",
    ")\n",
    "from sklearn.model_selection import train_test_split\n",
    "import matplotlib.pyplot as plt\n",
    "import seaborn as sns\n",
    "\n",
    "# Loading data\n",
    "df = pd.read_csv(\"../FINAL_FINAL_FINAL.csv\")\n",
    "df.columns = df.columns.str.lower()"
   ]
  },
  {
   "cell_type": "code",
   "execution_count": 2,
   "id": "0efde983",
   "metadata": {},
   "outputs": [],
   "source": [
    "# Feature engineering\n",
    "absent_cols = [f\"absent_pc_grade_{i}\" for i in range(3, 9)]\n",
    "pc_cols = [\n",
    "    \"pc_ma04\",\n",
    "    \"pc_ma05\",\n",
    "    \"pc_ma06\",\n",
    "    \"pc_ma07\",\n",
    "    \"pc_ma08\",\n",
    "    \"pc_rd04\",\n",
    "    \"pc_rd05\",\n",
    "    \"pc_rd06\",\n",
    "    \"pc_rd07\",\n",
    "    \"pc_rd08\",\n",
    "    \"pc_sc05\",\n",
    "    \"pc_sc08\",\n",
    "]\n",
    "df[\"avg_absent\"] = df[absent_cols].mean(axis=1)\n",
    "df[\"avg_pc\"] = df[pc_cols].mean(axis=1)"
   ]
  },
  {
   "cell_type": "code",
   "execution_count": 3,
   "id": "b0e19c55",
   "metadata": {},
   "outputs": [],
   "source": [
    "# Droping unimportant columns\n",
    "df.drop(columns=[\"mastid\", \"lea\", \"schlcode\"], inplace=True)"
   ]
  },
  {
   "cell_type": "code",
   "execution_count": 4,
   "id": "d80f042c",
   "metadata": {},
   "outputs": [],
   "source": [
    "# Selecting features andd dropping missing rows\n",
    "features = [\n",
    "    \"avg_absent\",\n",
    "    \"avg_pc\",\n",
    "    \"act\",\n",
    "    \"iep\",\n",
    "    \"eds\",\n",
    "    \"fcs\",\n",
    "    \"hms\",\n",
    "    \"mig\",\n",
    "    \"els\",\n",
    "    \"swd\",\n",
    "    \"mil\",\n",
    "    \"aig\",\n",
    "]\n",
    "df = df[features + [\"ethnic\", \"sex\", \"exit_code_desc\"]].dropna()"
   ]
  },
  {
   "cell_type": "code",
   "execution_count": 5,
   "id": "59147c75",
   "metadata": {},
   "outputs": [],
   "source": [
    "# Converting “Y”/“N” to 1/0\n",
    "for c in features[2:]:\n",
    "    df[c] = df[c].map({\"Y\": 1, \"N\": 0})"
   ]
  },
  {
   "cell_type": "code",
   "execution_count": 6,
   "id": "53bfb3a3",
   "metadata": {},
   "outputs": [],
   "source": [
    "# One-hot encodeing demographics\n",
    "df = pd.get_dummies(df, columns=[\"ethnic\", \"sex\"], drop_first=True)"
   ]
  },
  {
   "cell_type": "code",
   "execution_count": 7,
   "id": "47f890e0",
   "metadata": {},
   "outputs": [],
   "source": [
    "# Encoding target\n",
    "df[\"y\"] = LabelEncoder().fit_transform(df[\"exit_code_desc\"])\n",
    "df.drop(columns=[\"exit_code_desc\"], inplace=True)"
   ]
  },
  {
   "cell_type": "code",
   "execution_count": 8,
   "id": "5d3ace47",
   "metadata": {},
   "outputs": [],
   "source": [
    "# Spliting out 10% for the test set:\n",
    "X = df.drop(columns=\"y\")\n",
    "y = df[\"y\"]\n",
    "X_temp, X_test, y_temp, y_test = train_test_split(\n",
    "    X, y, test_size=0.10, stratify=y, random_state=42\n",
    ")"
   ]
  },
  {
   "cell_type": "code",
   "execution_count": 9,
   "id": "9232c40d",
   "metadata": {},
   "outputs": [
    {
     "name": "stdout",
     "output_type": "stream",
     "text": [
      "Splits → train: 238680, val: 29836, test: 29836\n"
     ]
    }
   ],
   "source": [
    "# From the rest 90%, split off 10% for validation\n",
    "val_frac = 0.10 / 0.90\n",
    "X_train, X_val, y_train, y_val = train_test_split(\n",
    "    X_temp, y_temp, test_size=val_frac, stratify=y_temp, random_state=42\n",
    ")\n",
    "\n",
    "print(f\"Splits → train: {len(X_train)}, val: {len(X_val)}, test: {len(X_test)}\")"
   ]
  },
  {
   "cell_type": "code",
   "execution_count": 10,
   "id": "59ec9da5",
   "metadata": {},
   "outputs": [],
   "source": [
    "# Cleaning infinities and imputing with median\n",
    "for D in (X_train, X_val, X_test):\n",
    "    D.replace([np.inf, -np.inf], np.nan, inplace=True)\n",
    "median = X_train.median()\n",
    "X_train.fillna(median, inplace=True)\n",
    "X_val.fillna(median, inplace=True)\n",
    "X_test.fillna(median, inplace=True)"
   ]
  },
  {
   "cell_type": "code",
   "execution_count": 11,
   "id": "38b76c9f",
   "metadata": {},
   "outputs": [],
   "source": [
    "# Converting to DMatrix\n",
    "dtrain = xgb.DMatrix(X_train, label=y_train)\n",
    "dval = xgb.DMatrix(X_val, label=y_val)\n",
    "dtest = xgb.DMatrix(X_test)\n",
    "# Computing imbalance weight\n",
    "scale_pos_weight = (y_train == 0).sum() / (y_train == 1).sum()\n",
    "# Defining the hyperparameter grid\n",
    "param_grid = {\n",
    "    \"max_depth\": [3, 5, 7],\n",
    "    \"eta\": [0.1, 0.01],\n",
    "    \"subsample\": [0.8, 1.0],\n",
    "    \"colsample_bytree\": [0.8, 1.0],\n",
    "    \"objective\": \"binary:logistic\",\n",
    "    \"scale_pos_weight\": scale_pos_weight,\n",
    "    \"eval_metric\": \"auc\",\n",
    "}\n",
    "\n",
    "best_score = 0\n",
    "best_params = None\n",
    "best_rounds = 0\n",
    "# Manual grid search with early stopping\n",
    "for max_depth in param_grid[\"max_depth\"]:\n",
    "    for eta in param_grid[\"eta\"]:\n",
    "        for subsample in param_grid[\"subsample\"]:\n",
    "            for colsample in param_grid[\"colsample_bytree\"]:\n",
    "                params = {\n",
    "                    \"max_depth\": max_depth,\n",
    "                    \"eta\": eta,\n",
    "                    \"subsample\": subsample,\n",
    "                    \"colsample_bytree\": colsample,\n",
    "                    \"objective\": \"binary:logistic\",\n",
    "                    \"scale_pos_weight\": scale_pos_weight,\n",
    "                    \"eval_metric\": \"auc\",\n",
    "                }\n",
    "                evals = [(dtrain, \"train\"), (dval, \"val\")]\n",
    "                bst = xgb.train(\n",
    "                    params,\n",
    "                    dtrain,\n",
    "                    num_boost_round=500,\n",
    "                    evals=evals,\n",
    "                    early_stopping_rounds=10,\n",
    "                    verbose_eval=False,\n",
    "                )\n",
    "                if bst.best_score > best_score:\n",
    "                    best_score = bst.best_score\n",
    "                    best_params = params\n",
    "                    best_rounds = bst.best_iteration\n",
    "\n",
    "print(\"Best validation AUC:\", best_score)\n",
    "print(\"Best params:\", best_params)\n",
    "print(\"Best rounds:\", best_rounds)\n",
    "# Retraining the final model on train + validation\n",
    "dtrain_full = xgb.DMatrix(\n",
    "    pd.concat([X_train, X_val], axis=0), label=pd.concat([y_train, y_val], axis=0)\n",
    ")\n",
    "bst_final = xgb.train(best_params, dtrain_full, num_boost_round=best_rounds)"
   ]
  },
  {
   "cell_type": "code",
   "execution_count": 16,
   "id": "2a66702f",
   "metadata": {},
   "outputs": [
    {
     "name": "stdout",
     "output_type": "stream",
     "text": [
      "\n",
      "Test Metrics:\n",
      "              precision    recall  f1-score   support\n",
      "\n",
      "           0       0.07      0.79      0.14       776\n",
      "           1       0.99      0.74      0.85     29060\n",
      "\n",
      "    accuracy                           0.74     29836\n",
      "   macro avg       0.53      0.76      0.49     29836\n",
      "weighted avg       0.97      0.74      0.83     29836\n",
      "\n",
      "Test ROC AUC: 0.8502567563732344\n",
      "Confusion Matrix:\n",
      " [[  610   166]\n",
      " [ 7594 21466]]\n"
     ]
    }
   ],
   "source": [
    "# Evaluating on the test set\n",
    "y_test_proba = bst_final.predict(dtest)\n",
    "y_test_pred = (y_test_proba > 0.5).astype(int)\n",
    "\n",
    "print(\"\\nTest Metrics:\")\n",
    "print(classification_report(y_test, y_test_pred))\n",
    "print(\"Test ROC AUC:\", roc_auc_score(y_test, y_test_proba))\n",
    "print(\"Confusion Matrix:\\n\", confusion_matrix(y_test, y_test_pred))\n",
    "# Computing confusion matrix\n",
    "cm = confusion_matrix(y_test, y_test_pred)\n",
    "\n",
    "# Ploting\n",
    "plt.figure(figsize=(6, 5))\n",
    "sns.heatmap(\n",
    "    cm,\n",
    "    annot=True,\n",
    "    fmt=\"d\",\n",
    "    cmap=\"Blues\",\n",
    "    cbar=True,\n",
    "    xticklabels=[\"Graduated (0)\", \"Dropped out (1)\"],\n",
    "    yticklabels=[\"Graduated (0)\", \"Dropped out (1)\"],\n",
    ")\n",
    "plt.title(\"Confusion Matrix\")\n",
    "plt.xlabel(\"Predicted Variables\")\n",
    "plt.ylabel(\"Actual Variables\")\n",
    "plt.tight_layout()\n",
    "plt.show()\n",
    "\n",
    "\n",
    "# ROC Curve\n",
    "fpr, tpr, _ = roc_curve(y_test, y_test_proba)\n",
    "plt.figure()\n",
    "plt.plot(fpr, tpr, lw=2)\n",
    "plt.plot([0, 1], [0, 1], linestyle=\"--\", color=\"gray\")\n",
    "plt.title(\"ROC Curve (AUC = {:.3f})\".format(roc_auc_score(y_test, y_test_proba)))\n",
    "plt.xlabel(\"False Positive Rate\")\n",
    "plt.ylabel(\"True Positive Rate\")\n",
    "plt.show()\n",
    "\n",
    "# Precision-Recall Curve\n",
    "prec, rec, _ = precision_recall_curve(y_test, y_test_proba)\n",
    "plt.figure()\n",
    "plt.plot(rec, prec, lw=2)\n",
    "plt.title(\"Precision-Recall Curve\")\n",
    "plt.xlabel(\"Recall\")\n",
    "plt.ylabel(\"Precision\")\n",
    "plt.show()\n",
    "\n",
    "# Feature Importance (gain)\n",
    "importance = bst_final.get_score(importance_type=\"gain\")\n",
    "items = sorted(importance.items(), key=lambda x: x[1], reverse=True)\n",
    "feat, score = zip(*items)\n",
    "plt.figure(figsize=(6, 8))\n",
    "plt.barh(feat, score)\n",
    "plt.gca().invert_yaxis()\n",
    "plt.title(\"Feature Importance (gain)\")\n",
    "plt.xlabel(\"Gain\")\n",
    "plt.show()"
   ]
  }
 ],
 "metadata": {
  "kernelspec": {
   "display_name": "Python 3",
   "language": "python",
   "name": "python3"
  },
  "language_info": {
   "codemirror_mode": {
    "name": "ipython",
    "version": 3
   },
   "file_extension": ".py",
   "mimetype": "text/x-python",
   "name": "python",
   "nbconvert_exporter": "python",
   "pygments_lexer": "ipython3",
   "version": "3.13.3"
  }
 },
 "nbformat": 4,
 "nbformat_minor": 5
}
