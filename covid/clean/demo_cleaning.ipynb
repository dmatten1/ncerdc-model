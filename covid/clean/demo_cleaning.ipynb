{
 "cells": [
  {
   "cell_type": "code",
   "execution_count": 1,
   "id": "69757e3a",
   "metadata": {},
   "outputs": [],
   "source": [
    "import numpy as np\n",
    "import pandas as pd\n",
    "import matplotlib.pyplot as plt\n",
    "import pyreadstat as stat\n",
    "import seaborn as sns\n",
    "from pathlib import Path"
   ]
  },
  {
   "cell_type": "code",
   "execution_count": 2,
   "id": "91fec4df",
   "metadata": {},
   "outputs": [
    {
     "name": "stderr",
     "output_type": "stream",
     "text": [
      "/var/folders/1v/d265l3ks51x5svspj6rx8y3c0000gn/T/ipykernel_93490/3942483801.py:3: DtypeWarning: Columns (9,21) have mixed types. Specify dtype option on import or set low_memory=False.\n",
      "  demo16 = pd.read_csv(data_dir / \"mergedemo_pub2016.csv\")\n",
      "/var/folders/1v/d265l3ks51x5svspj6rx8y3c0000gn/T/ipykernel_93490/3942483801.py:5: DtypeWarning: Columns (10,22,34) have mixed types. Specify dtype option on import or set low_memory=False.\n",
      "  demo17 = pd.read_csv(data_dir / \"mergedemo_pub2017.csv\")\n",
      "/var/folders/1v/d265l3ks51x5svspj6rx8y3c0000gn/T/ipykernel_93490/3942483801.py:7: DtypeWarning: Columns (6,18,19,31,32,37) have mixed types. Specify dtype option on import or set low_memory=False.\n",
      "  demo18 = pd.read_csv(data_dir / \"mergedemo_pub2018.csv\")\n",
      "/var/folders/1v/d265l3ks51x5svspj6rx8y3c0000gn/T/ipykernel_93490/3942483801.py:9: DtypeWarning: Columns (6,18,19) have mixed types. Specify dtype option on import or set low_memory=False.\n",
      "  demo19 = pd.read_csv(data_dir / \"mergedemo_pub2019.csv\")\n",
      "/var/folders/1v/d265l3ks51x5svspj6rx8y3c0000gn/T/ipykernel_93490/3942483801.py:11: DtypeWarning: Columns (5,17,18) have mixed types. Specify dtype option on import or set low_memory=False.\n",
      "  demo20 = pd.read_csv(data_dir / \"mergedemo_pub2020.csv\")\n",
      "/var/folders/1v/d265l3ks51x5svspj6rx8y3c0000gn/T/ipykernel_93490/3942483801.py:13: DtypeWarning: Columns (4,18,19) have mixed types. Specify dtype option on import or set low_memory=False.\n",
      "  demo21 = pd.read_csv(data_dir / \"mergedemo_pub2021.csv\")\n",
      "/var/folders/1v/d265l3ks51x5svspj6rx8y3c0000gn/T/ipykernel_93490/3942483801.py:15: DtypeWarning: Columns (4,18,19) have mixed types. Specify dtype option on import or set low_memory=False.\n",
      "  demo22 = pd.read_csv(data_dir / \"mergedemo_pub2022.csv\")\n",
      "/var/folders/1v/d265l3ks51x5svspj6rx8y3c0000gn/T/ipykernel_93490/3942483801.py:17: DtypeWarning: Columns (4,18,19) have mixed types. Specify dtype option on import or set low_memory=False.\n",
      "  demo23 = pd.read_csv(data_dir / \"mergedemo_pub2023.csv\")\n"
     ]
    }
   ],
   "source": [
    "data_dir = Path(\"/Users/adamcartwright/ncerdc/Student Data/Demographics Data\")\n",
    "\n",
    "demo16 = pd.read_csv(data_dir / \"mergedemo_pub2016.csv\")\n",
    "demo16[\"year\"] = 2016\n",
    "demo17 = pd.read_csv(data_dir / \"mergedemo_pub2017.csv\")\n",
    "demo17[\"year\"] = 2017\n",
    "demo18 = pd.read_csv(data_dir / \"mergedemo_pub2018.csv\")\n",
    "demo18[\"year\"] = 2018\n",
    "demo19 = pd.read_csv(data_dir / \"mergedemo_pub2019.csv\")\n",
    "demo19[\"year\"] = 2019\n",
    "demo20 = pd.read_csv(data_dir / \"mergedemo_pub2020.csv\")\n",
    "demo20[\"year\"] = 2020\n",
    "demo21 = pd.read_csv(data_dir / \"mergedemo_pub2021.csv\")\n",
    "demo21[\"year\"] = 2021\n",
    "demo22 = pd.read_csv(data_dir / \"mergedemo_pub2022.csv\")\n",
    "demo22[\"year\"] = 2022\n",
    "demo23 = pd.read_csv(data_dir / \"mergedemo_pub2023.csv\")\n",
    "demo23[\"year\"] = 2023\n",
    "\n",
    "demo_master = pd.concat([demo16, demo17, demo18, demo19, demo20, demo21, demo22, demo23], ignore_index=True)\n",
    "\n",
    "# 1) Normalize column names: strip whitespace, lowercase, replace spaces with underscores\n",
    "demo_master.columns = (\n",
    "    demo_master.columns\n",
    "        .str.strip()\n",
    "        .str.lower()\n",
    "        .str.replace(\" \", \"_\")\n",
    ")\n",
    "\n",
    "# 2) Drop any rows missing critical demographic keys: mastid, year, lea, schlcode\n",
    "#    (If those columns might contain literal \"<NA>\" or \"nan\", convert them first.)\n",
    "demo_master['mastid']   = demo_master['mastid'].replace(['<NA>', 'nan'], np.nan)\n",
    "demo_master['lea']      = demo_master['lea'].replace(['<NA>', 'nan'], np.nan)\n",
    "demo_master['schlcode'] = demo_master['schlcode'].replace(['<NA>', 'nan'], np.nan)\n",
    "\n",
    "demo_master = demo_master.dropna(subset=['mastid', 'year', 'lea', 'schlcode'])\n",
    "\n",
    "# 3) Convert mastid and year to integers\n",
    "demo_master['mastid'] = demo_master['mastid'].round(0).astype(int)\n",
    "demo_master['year']   = demo_master['year'].round(0).astype(int)\n",
    "\n",
    "# 4) Ensure 'lea' is string (strip whitespace), zero-pad 'schlcode' to three digits\n",
    "demo_master['lea']      = demo_master['lea'].astype(str).str.strip()\n",
    "demo_master['schlcode'] = demo_master['schlcode'].astype(str).str.zfill(3)\n",
    "\n",
    "# 5) Create 'unique_identifier' by concatenating lea and schlcode\n",
    "demo_master['unique_identifier'] = demo_master['lea'] + '-' + demo_master['schlcode']\n",
    "\n",
    "# 1) Convert 'mastid' from float to integer\n",
    "demo_master['mastid'] = demo_master['mastid'].round(0).astype(int)\n",
    "\n",
    "# 2) Keep only the specified columns\n",
    "keep_cols = ['mastid', 'grade', 'ethnic', 'sex', 'eds', 'aig', 'swd', 'year']\n",
    "demo_master = demo_master[keep_cols]\n",
    "demo_master = demo_master.dropna(subset=keep_cols)\n",
    "\n",
    "# 1) Make sure grade is a string and strip whitespace\n",
    "grades = demo_master['grade'].astype(str).str.strip()\n",
    "\n",
    "# 2) Build a boolean mask of rows that are only digits\n",
    "mask_numeric = grades.str.isdigit()\n",
    "\n",
    "# 3) Create a copy and zero‐pad only the numeric ones\n",
    "grades_padded = grades.copy()\n",
    "grades_padded[mask_numeric] = grades[mask_numeric].str.zfill(2)\n",
    "\n",
    "# 4) Put it back into your DataFrame\n",
    "demo_master['grade'] = grades_padded\n"
   ]
  },
  {
   "cell_type": "code",
   "execution_count": 3,
   "id": "a47b0923",
   "metadata": {},
   "outputs": [],
   "source": [
    "# 10) Save cleaned demographics\n",
    "demo_master.to_csv(data_dir / \"demographics_clean.csv\", index=False)"
   ]
  }
 ],
 "metadata": {
  "kernelspec": {
   "display_name": "Python 3",
   "language": "python",
   "name": "python3"
  },
  "language_info": {
   "codemirror_mode": {
    "name": "ipython",
    "version": 3
   },
   "file_extension": ".py",
   "mimetype": "text/x-python",
   "name": "python",
   "nbconvert_exporter": "python",
   "pygments_lexer": "ipython3",
   "version": "3.11.4"
  }
 },
 "nbformat": 4,
 "nbformat_minor": 5
}
